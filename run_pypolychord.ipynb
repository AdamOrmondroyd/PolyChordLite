{
 "cells": [
  {
   "cell_type": "code",
   "execution_count": null,
   "id": "bfd30820",
   "metadata": {},
   "outputs": [],
   "source": [
    "import os\n",
    "from numpy import pi, log\n",
    "import numpy as np\n",
    "import pypolychord\n",
    "from pypolychord.priors import UniformPrior\n",
    "try:\n",
    "    from mpi4py import MPI\n",
    "except ImportError:\n",
    "    pass"
   ]
  },
  {
   "cell_type": "markdown",
   "id": "ad69b34b",
   "metadata": {},
   "source": [
    "Define a four-dimensional spherical gaussian likelihood,\n",
    " width sigma=0.1, centered on the 0 with one derived parameter.\n",
    " The derived parameter is the squared radius"
   ]
  },
  {
   "cell_type": "code",
   "execution_count": null,
   "id": "5a0a1b80",
   "metadata": {},
   "outputs": [],
   "source": [
    "nDims = 4\n",
    "nDerived = 1\n",
    "sigma = 0.1\n",
    "\n",
    "def likelihood(theta):\n",
    "    \"\"\" Simple Gaussian Likelihood\"\"\"\n",
    "\n",
    "    nDims = len(theta)\n",
    "    r2 = sum(theta**2)\n",
    "    logL = -log(2*pi*sigma*sigma)*nDims/2.0\n",
    "    logL += -r2/2/sigma/sigma\n",
    "\n",
    "    return logL, [r2]"
   ]
  },
  {
   "cell_type": "markdown",
   "id": "f19d8082",
   "metadata": {},
   "source": [
    "Define a box uniform prior from -1 to 1"
   ]
  },
  {
   "cell_type": "code",
   "execution_count": null,
   "id": "bc09cab1",
   "metadata": {},
   "outputs": [],
   "source": [
    "def prior(hypercube):\n",
    "    \"\"\" Uniform prior from [-1,1]^D. \"\"\"\n",
    "    return UniformPrior(-1, 1)(hypercube)"
   ]
  },
  {
   "cell_type": "markdown",
   "id": "6ee1c04c",
   "metadata": {},
   "source": [
    "Optional dumper function giving run-time read access to\n",
    " the live points, dead points, weights and evidences"
   ]
  },
  {
   "cell_type": "code",
   "execution_count": null,
   "id": "cc98cb23",
   "metadata": {},
   "outputs": [],
   "source": [
    "def dumper(live, dead, logweights, logZ, logZerr):\n",
    "    print(\"Last dead point:\", dead[-1])"
   ]
  },
  {
   "cell_type": "markdown",
   "id": "3ef7f7a3",
   "metadata": {},
   "source": [
    "Optional cluster function allow user-defined clustering"
   ]
  },
  {
   "cell_type": "code",
   "execution_count": null,
   "id": "d1b3839b",
   "metadata": {},
   "outputs": [],
   "source": [
    "def cluster(points):\n",
    "    npoints = points.shape[0]\n",
    "    clusters = np.full(npoints, -1, dtype=int)\n",
    "\n",
    "    # <do some clustering algorithm to assign clusters>\n",
    "    # - clusters should be an array of cluster labels for each point\n",
    "    # - each cluster should have at least one point\n",
    "    # - thus max(clusters)+1 should be the number of clusters\n",
    "    # - i.e. clusters are 0-indexed\n",
    "    # - work with the above numpy integer array\n",
    "\n",
    "    return clusters"
   ]
  },
  {
   "cell_type": "markdown",
   "id": "3829ccb8",
   "metadata": {},
   "source": [
    "Initialise the settings"
   ]
  },
  {
   "cell_type": "code",
   "execution_count": null,
   "id": "0d3809e8",
   "metadata": {},
   "outputs": [],
   "source": [
    "paramnames = [('p%i' % i, r'\\theta_%i' % i) for i in range(nDims)]\n",
    "paramnames += [('r*', 'r')]\n",
    "\n",
    "    # <do some clustering algorithm to assign clusters>\n",
    "    # - clusters should be an array of cluster labels for each point\n",
    "    # - each cluster should have at least one point\n",
    "    # - thus max(clusters)+1 should be the number of clusters\n",
    "    # - i.e. clusters are 0-indexed\n",
    "    # - work with the above numpy integer array\n",
    "\n",
    "output = pypolychord.run(\n",
    "    likelihood,\n",
    "    nDims,\n",
    "    nDerived=nDerived,\n",
    "    prior=prior,\n",
    "    dumper=dumper,\n",
    "    file_root='gaussian',\n",
    "    nlive=200,\n",
    "    do_clustering=True,\n",
    "    read_resume=False,\n",
    "    paramnames=paramnames,\n",
    ")"
   ]
  },
  {
   "cell_type": "markdown",
   "id": "4c7c4b3b",
   "metadata": {},
   "source": [
    "Make an anesthetic plot"
   ]
  },
  {
   "cell_type": "code",
   "execution_count": null,
   "id": "e7d69d53",
   "metadata": {},
   "outputs": [],
   "source": [
    "fig, axes = output.plot_2d(['p0','p1','p2','p3','r'])\n",
    "fig.savefig('posterior.pdf')"
   ]
  }
 ],
 "metadata": {},
 "nbformat": 4,
 "nbformat_minor": 5
}
