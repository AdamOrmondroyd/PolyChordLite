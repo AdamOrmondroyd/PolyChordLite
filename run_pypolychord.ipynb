{
 "cells": [
  {
   "cell_type": "code",
   "execution_count": null,
   "id": "534883c7",
   "metadata": {},
   "outputs": [],
   "source": [
    "from numpy import pi, log\n",
    "import pypolychord\n",
    "from pypolychord.settings import PolyChordSettings\n",
    "from pypolychord.priors import UniformPrior\n",
    "try:\n",
    "    from mpi4py import MPI\n",
    "except ImportError:\n",
    "    pass"
   ]
  },
  {
   "cell_type": "markdown",
   "id": "0b063605",
   "metadata": {},
   "source": [
    "Define a four-dimensional spherical gaussian likelihood,\n",
    " width sigma=0.1, centered on the 0 with one derived parameter.\n",
    " The derived parameter is the squared radius"
   ]
  },
  {
   "cell_type": "code",
   "execution_count": null,
   "id": "099e345f",
   "metadata": {},
   "outputs": [],
   "source": [
    "nDims = 4\n",
    "nDerived = 1\n",
    "sigma = 0.1\n",
    "\n",
    "def likelihood(theta):\n",
    "    \"\"\" Simple Gaussian Likelihood\"\"\"\n",
    "\n",
    "    nDims = len(theta)\n",
    "    r2 = sum(theta**2)\n",
    "    logL = -log(2*pi*sigma*sigma)*nDims/2.0\n",
    "    logL += -r2/2/sigma/sigma\n",
    "\n",
    "    return logL, [r2]"
   ]
  },
  {
   "cell_type": "markdown",
   "id": "3c14dd3d",
   "metadata": {},
   "source": [
    "Define a box uniform prior from -1 to 1"
   ]
  },
  {
   "cell_type": "code",
   "execution_count": null,
   "id": "0de8ea5c",
   "metadata": {},
   "outputs": [],
   "source": [
    "def prior(hypercube):\n",
    "    \"\"\" Uniform prior from [-1,1]^D. \"\"\"\n",
    "    return UniformPrior(-1, 1)(hypercube)"
   ]
  },
  {
   "cell_type": "markdown",
   "id": "b24b43fe",
   "metadata": {},
   "source": [
    "Optional dumper function giving run-time read access to\n",
    " the live points, dead points, weights and evidences"
   ]
  },
  {
   "cell_type": "code",
   "execution_count": null,
   "id": "228847cb",
   "metadata": {},
   "outputs": [],
   "source": [
    "def dumper(live, dead, logweights, logZ, logZerr):\n",
    "    print(\"Last dead point:\", dead[-1])"
   ]
  },
  {
   "cell_type": "markdown",
   "id": "5c504813",
   "metadata": {},
   "source": [
    "Initialise the settings"
   ]
  },
  {
   "cell_type": "code",
   "execution_count": null,
   "id": "ea6717b3",
   "metadata": {},
   "outputs": [],
   "source": [
    "settings = PolyChordSettings(nDims, nDerived)\n",
    "settings.file_root = 'gaussian'\n",
    "settings.nlive = 200\n",
    "settings.do_clustering = True\n",
    "settings.read_resume = False"
   ]
  },
  {
   "cell_type": "markdown",
   "id": "6c36081e",
   "metadata": {},
   "source": [
    "Run PolyChord"
   ]
  },
  {
   "cell_type": "code",
   "execution_count": null,
   "id": "5e25d166",
   "metadata": {},
   "outputs": [],
   "source": [
    "output = pypolychord.run_polychord(likelihood, nDims, nDerived, settings, prior, dumper)"
   ]
  },
  {
   "cell_type": "markdown",
   "id": "d3b9154d",
   "metadata": {},
   "source": [
    "Create a paramnames file"
   ]
  },
  {
   "cell_type": "code",
   "execution_count": null,
   "id": "48a4118d",
   "metadata": {},
   "outputs": [],
   "source": [
    "paramnames = [('p%i' % i, r'\\theta_%i' % i) for i in range(nDims)]\n",
    "paramnames += [('r*', 'r')]\n",
    "output.make_paramnames_files(paramnames)"
   ]
  },
  {
   "cell_type": "markdown",
   "id": "de5acf7a",
   "metadata": {},
   "source": [
    "Make an anesthetic plot (could also use getdist)"
   ]
  },
  {
   "cell_type": "code",
   "execution_count": null,
   "id": "8fcd2d4d",
   "metadata": {},
   "outputs": [],
   "source": [
    "try:\n",
    "    from anesthetic import NestedSamples\n",
    "    samples = NestedSamples(root= settings.base_dir + '/' + settings.file_root)\n",
    "    fig, axes = samples.plot_2d(['p0','p1','p2','p3','r'])\n",
    "    fig.savefig('posterior.pdf')\n",
    "\n",
    "except ImportError:\n",
    "    try:\n",
    "        import getdist.plots\n",
    "        posterior = output.posterior\n",
    "        g = getdist.plots.getSubplotPlotter()\n",
    "        g.triangle_plot(posterior, filled=True)\n",
    "        g.export('posterior.pdf')\n",
    "    except ImportError:\n",
    "        print(\"Install matplotlib and getdist for plotting examples\")\n",
    "\n",
    "    print(\"Install anesthetic or getdist  for for plotting examples\")"
   ]
  }
 ],
 "metadata": {},
 "nbformat": 4,
 "nbformat_minor": 5
}
