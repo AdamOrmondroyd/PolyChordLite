{
 "cells": [
  {
   "cell_type": "code",
   "execution_count": null,
   "id": "22f3892f",
   "metadata": {},
   "outputs": [],
   "source": [
    "from numpy import pi, log\n",
    "import pypolychord\n",
    "from pypolychord.priors import UniformPrior\n",
    "try:\n",
    "    from mpi4py import MPI\n",
    "except ImportError:\n",
    "    pass"
   ]
  },
  {
   "cell_type": "markdown",
   "id": "cf2853d6",
   "metadata": {},
   "source": [
    "Define a four-dimensional spherical gaussian likelihood,\n",
    " width sigma=0.1, centered on the 0 with one derived parameter.\n",
    " The derived parameter is the squared radius"
   ]
  },
  {
   "cell_type": "code",
   "execution_count": null,
   "id": "699eea21",
   "metadata": {},
   "outputs": [],
   "source": [
    "nDims = 4\n",
    "nDerived = 1\n",
    "sigma = 0.1\n",
    "\n",
    "def likelihood(theta):\n",
    "    \"\"\" Simple Gaussian Likelihood\"\"\"\n",
    "\n",
    "    nDims = len(theta)\n",
    "    r2 = sum(theta**2)\n",
    "    logL = -log(2*pi*sigma*sigma)*nDims/2.0\n",
    "    logL += -r2/2/sigma/sigma\n",
    "\n",
    "    return logL, [r2]"
   ]
  },
  {
   "cell_type": "markdown",
   "id": "8c71a4e6",
   "metadata": {},
   "source": [
    "Define a box uniform prior from -1 to 1"
   ]
  },
  {
   "cell_type": "code",
   "execution_count": null,
   "id": "cf305955",
   "metadata": {},
   "outputs": [],
   "source": [
    "def prior(hypercube):\n",
    "    \"\"\" Uniform prior from [-1,1]^D. \"\"\"\n",
    "    return UniformPrior(-1, 1)(hypercube)"
   ]
  },
  {
   "cell_type": "markdown",
   "id": "decdd19d",
   "metadata": {},
   "source": [
    "Optional dumper function giving run-time read access to\n",
    " the live points, dead points, weights and evidences"
   ]
  },
  {
   "cell_type": "code",
   "execution_count": null,
   "id": "31e5565c",
   "metadata": {},
   "outputs": [],
   "source": [
    "def dumper(live, dead, logweights, logZ, logZerr):\n",
    "    print(\"Last dead point:\", dead[-1])"
   ]
  },
  {
   "cell_type": "markdown",
   "id": "4a566ad9",
   "metadata": {},
   "source": [
    "Create a paramnames file"
   ]
  },
  {
   "cell_type": "code",
   "execution_count": null,
   "id": "51a1d935",
   "metadata": {},
   "outputs": [],
   "source": [
    "paramnames = [('p%i' % i, r'\\theta_%i' % i) for i in range(nDims)]\n",
    "paramnames += [('r*', 'r')]"
   ]
  },
  {
   "cell_type": "markdown",
   "id": "4360478c",
   "metadata": {},
   "source": [
    "Run PolyChord"
   ]
  },
  {
   "cell_type": "code",
   "execution_count": null,
   "id": "03fbe051",
   "metadata": {},
   "outputs": [],
   "source": [
    "output = pypolychord.run(\n",
    "    likelihood,\n",
    "    nDims,\n",
    "    nDerived=nDerived,\n",
    "    prior=prior,\n",
    "    dumper=dumper,\n",
    "    file_root='gaussian',\n",
    "    nlive=200,\n",
    "    do_clustering=True,\n",
    "    read_resume=False,\n",
    "    paramnames=paramnames,\n",
    ")"
   ]
  },
  {
   "cell_type": "markdown",
   "id": "a339183e",
   "metadata": {},
   "source": [
    "Make an anesthetic plot"
   ]
  },
  {
   "cell_type": "code",
   "execution_count": null,
   "id": "410eaea3",
   "metadata": {},
   "outputs": [],
   "source": [
    "fig, axes = output.plot_2d(['p0','p1','p2','p3','r'])\n",
    "fig.savefig('posterior.pdf')"
   ]
  }
 ],
 "metadata": {},
 "nbformat": 4,
 "nbformat_minor": 5
}
