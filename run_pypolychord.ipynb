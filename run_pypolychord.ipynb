{
 "cells": [
  {
   "cell_type": "code",
   "execution_count": null,
   "id": "d56f8669",
   "metadata": {},
   "outputs": [],
   "source": [
    "from numpy import pi, log, full\n",
    "import pypolychord\n",
    "from pypolychord.settings import PolyChordSettings\n",
    "from pypolychord.priors import UniformPrior\n",
    "try:\n",
    "    from mpi4py import MPI\n",
    "except ImportError:\n",
    "    pass"
   ]
  },
  {
   "cell_type": "markdown",
   "id": "d1b21614",
   "metadata": {},
   "source": [
    "Define a four-dimensional spherical gaussian likelihood,\n",
    " width sigma=0.1, centered on the 0 with one derived parameter.\n",
    " The derived parameter is the squared radius"
   ]
  },
  {
   "cell_type": "code",
   "execution_count": null,
   "id": "b6d963c1",
   "metadata": {},
   "outputs": [],
   "source": [
    "nDims = 4\n",
    "nDerived = 1\n",
    "sigma = 0.1\n",
    "\n",
    "def likelihood(theta):\n",
    "    \"\"\" Simple Gaussian Likelihood\"\"\"\n",
    "\n",
    "    nDims = len(theta)\n",
    "    r2 = sum(theta**2)\n",
    "    logL = -log(2*pi*sigma*sigma)*nDims/2.0\n",
    "    logL += -r2/2/sigma/sigma\n",
    "\n",
    "    return logL, [r2]"
   ]
  },
  {
   "cell_type": "markdown",
   "id": "37ec9888",
   "metadata": {},
   "source": [
    "Define a box uniform prior from -1 to 1"
   ]
  },
  {
   "cell_type": "code",
   "execution_count": null,
   "id": "e14de94e",
   "metadata": {},
   "outputs": [],
   "source": [
    "def prior(hypercube):\n",
    "    \"\"\" Uniform prior from [-1,1]^D. \"\"\"\n",
    "    return UniformPrior(-1, 1)(hypercube)"
   ]
  },
  {
   "cell_type": "markdown",
   "id": "b257a9e3",
   "metadata": {},
   "source": [
    "Optional dumper function giving run-time read access to\n",
    " the live points, dead points, weights and evidences"
   ]
  },
  {
   "cell_type": "code",
   "execution_count": null,
   "id": "34c99901",
   "metadata": {},
   "outputs": [],
   "source": [
    "def dumper(live, dead, logweights, logZ, logZerr):\n",
    "    print(\"Last dead point:\", dead[-1])"
   ]
  },
  {
   "cell_type": "markdown",
   "id": "d040a2a1",
   "metadata": {},
   "source": [
    "Optional cluster function allow user-defined clustering"
   ]
  },
  {
   "cell_type": "code",
   "execution_count": null,
   "id": "a153102e",
   "metadata": {},
   "outputs": [],
   "source": [
    "def cluster(points):\n",
    "    \"\"\"\n",
    "    <do some clustering algorithm to assign clusters>\n",
    "    - clusters should be an array of cluster labels for each point\n",
    "    - each cluster should have at least one point\n",
    "    - thus max(clusters)+1 should be the number of clusters\n",
    "    - i.e. clusters are 0-indexed\n",
    "    - work with the above numpy integer array\n",
    "    \"\"\"\n",
    "    npoints = points.shape[0]\n",
    "    return full(npoints, -1, dtype=int)"
   ]
  },
  {
   "cell_type": "markdown",
   "id": "66b8f9ec",
   "metadata": {},
   "source": [
    "Initialise the settings"
   ]
  },
  {
   "cell_type": "code",
   "execution_count": null,
   "id": "53050698",
   "metadata": {},
   "outputs": [],
   "source": [
    "settings = PolyChordSettings(nDims, nDerived)\n",
    "settings.file_root = 'gaussian'\n",
    "settings.nlive = 200\n",
    "settings.do_clustering = True\n",
    "settings.read_resume = False"
   ]
  },
  {
   "cell_type": "markdown",
   "id": "bee64a4f",
   "metadata": {},
   "source": [
    "Run PolyChord"
   ]
  },
  {
   "cell_type": "code",
   "execution_count": null,
   "id": "cfa7991d",
   "metadata": {},
   "outputs": [],
   "source": [
    "output = pypolychord.run_polychord(likelihood, nDims, nDerived, settings, prior, dumper, cluster)"
   ]
  },
  {
   "cell_type": "markdown",
   "id": "2364ccda",
   "metadata": {},
   "source": [
    "Make an anesthetic plot"
   ]
  },
  {
   "cell_type": "code",
   "execution_count": null,
   "id": "16df19e1",
   "metadata": {},
   "outputs": [],
   "source": [
    "paramnames = [('p%i' % i, r'\\theta_%i' % i) for i in range(nDims)]\n",
    "paramnames += [('r*', 'r')]\n",
    "output.make_paramnames_files(paramnames)"
   ]
  },
  {
   "cell_type": "markdown",
   "id": "5d6eb1c4",
   "metadata": {},
   "source": [
    "Make an anesthetic plot (could also use getdist)"
   ]
  },
  {
   "cell_type": "code",
   "execution_count": null,
   "id": "b3b05a08",
   "metadata": {},
   "outputs": [],
   "source": [
    "try:\n",
    "    import anesthetic as ac\n",
    "    samples = ac.read_chains(settings.base_dir + '/' + settings.file_root)\n",
    "    fig, axes = ac.make_2d_axes(['p0', 'p1', 'p2', 'p3', 'r'])\n",
    "    samples.plot_2d(axes)\n",
    "    fig.savefig('posterior.pdf')\n",
    "\n",
    "except ImportError:\n",
    "    try:\n",
    "        import getdist.plots\n",
    "        posterior = output.posterior\n",
    "        g = getdist.plots.getSubplotPlotter()\n",
    "        g.triangle_plot(posterior, filled=True)\n",
    "        g.export('posterior.pdf')\n",
    "    except ImportError:\n",
    "        print(\"Install matplotlib and getdist for plotting examples\")\n",
    "\n",
    "    print(\"Install anesthetic or getdist for plotting examples\")"
   ]
  }
 ],
 "metadata": {},
 "nbformat": 4,
 "nbformat_minor": 5
}
